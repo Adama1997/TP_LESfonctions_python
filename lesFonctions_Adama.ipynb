{
 "cells": [
  {
   "cell_type": "markdown",
   "metadata": {},
   "source": [
    "# exercice1"
   ]
  },
  {
   "cell_type": "code",
   "execution_count": 29,
   "metadata": {},
   "outputs": [],
   "source": [
    "def maximum(a,b,c):\n",
    "    max = 0\n",
    "    if (a>b):\n",
    "        max = a\n",
    "    else:\n",
    "        max = b\n",
    "    if(max<c):\n",
    "        max = c\n",
    "    else:\n",
    "        max = max\n",
    "    print(\"le nombre maximal est: \",max)"
   ]
  },
  {
   "cell_type": "code",
   "execution_count": 30,
   "metadata": {},
   "outputs": [
    {
     "name": "stdout",
     "output_type": "stream",
     "text": [
      "le nombre maximal est:  67\n"
     ]
    }
   ],
   "source": [
    "maximum(12,24,67)"
   ]
  },
  {
   "cell_type": "markdown",
   "metadata": {},
   "source": [
    "# exercice2"
   ]
  },
  {
   "cell_type": "code",
   "execution_count": 4,
   "metadata": {},
   "outputs": [],
   "source": [
    "def lettre():\n",
    "    alpha = input(\"entrer un alphabet: \")\n",
    "    if alpha in ('aeiouy'):\n",
    "        print(\"voyelle: \")\n",
    "    else:\n",
    "        print(\"consonne\")"
   ]
  },
  {
   "cell_type": "code",
   "execution_count": 5,
   "metadata": {},
   "outputs": [
    {
     "name": "stdout",
     "output_type": "stream",
     "text": [
      "entrer un alphabet: a\n",
      "voyelle: \n"
     ]
    }
   ],
   "source": [
    "lettre()"
   ]
  },
  {
   "cell_type": "markdown",
   "metadata": {},
   "source": [
    "# exercice3"
   ]
  },
  {
   "cell_type": "code",
   "execution_count": 6,
   "metadata": {},
   "outputs": [],
   "source": [
    "def semaine():\n",
    "    num = int(input(\"entrer un numeros: \"))\n",
    "    if num==1:\n",
    "        print(\"lundi\")\n",
    "    elif num==2:\n",
    "        print(\"mardi\")\n",
    "    elif num==3:\n",
    "        print(\"mercredi\")\n",
    "    elif num==4:\n",
    "        print(\"jeudi\")\n",
    "    elif num==5:\n",
    "        print(\"vendredi\")\n",
    "    elif num==6:\n",
    "        print(\"samedi\")\n",
    "    elif num==7:\n",
    "        print(\"dimanche\")\n",
    "    else:\n",
    "        print(\"pas de jour\")"
   ]
  },
  {
   "cell_type": "code",
   "execution_count": 7,
   "metadata": {},
   "outputs": [
    {
     "name": "stdout",
     "output_type": "stream",
     "text": [
      "entrer un numeros: 3\n",
      "mercredi\n"
     ]
    }
   ],
   "source": [
    "semaine()"
   ]
  },
  {
   "cell_type": "markdown",
   "metadata": {},
   "source": [
    "# exercice4"
   ]
  },
  {
   "cell_type": "code",
   "execution_count": 31,
   "metadata": {},
   "outputs": [],
   "source": [
    "def pert_profit(prix_fab,prix_vente):\n",
    "    profit = prix_vente-prix_fab\n",
    "    if prix_fab < prix_vente:\n",
    "        print(\"waouh.... il en a bénéficié \")\n",
    "    else:\n",
    "        print(\"pas de profit mais du perte\")"
   ]
  },
  {
   "cell_type": "code",
   "execution_count": 32,
   "metadata": {},
   "outputs": [
    {
     "name": "stdout",
     "output_type": "stream",
     "text": [
      "waouh.... il en a bénéficié \n"
     ]
    }
   ],
   "source": [
    "pert_profit(12000,17000)"
   ]
  },
  {
   "cell_type": "markdown",
   "metadata": {},
   "source": [
    "# exercice5"
   ]
  },
  {
   "cell_type": "code",
   "execution_count": 33,
   "metadata": {},
   "outputs": [],
   "source": [
    "def bissextile(an):\n",
    "    if (an%4==0 and an%100!=0 or an%400==0):\n",
    "        print(\"l'année est une année bissextile!\")\n",
    "    else:\n",
    "        print(\"l'an n'est pas bissextile!\")"
   ]
  },
  {
   "cell_type": "code",
   "execution_count": 34,
   "metadata": {},
   "outputs": [
    {
     "name": "stdout",
     "output_type": "stream",
     "text": [
      "l'an n'est pas bissextile!\n"
     ]
    }
   ],
   "source": [
    "bissextile(2017)"
   ]
  },
  {
   "cell_type": "markdown",
   "metadata": {},
   "source": [
    "# exercice6"
   ]
  },
  {
   "cell_type": "code",
   "execution_count": 12,
   "metadata": {},
   "outputs": [
    {
     "name": "stdout",
     "output_type": "stream",
     "text": [
      "*\n",
      "**\n",
      "***\n",
      "****\n",
      "*****\n"
     ]
    }
   ],
   "source": [
    "def triangle(n):\n",
    "    for i in range(1,n+1,1):\n",
    "        print(\"*\" * i)\n",
    "triangle(5)"
   ]
  },
  {
   "cell_type": "markdown",
   "metadata": {},
   "source": [
    "# exercice7"
   ]
  },
  {
   "cell_type": "code",
   "execution_count": 13,
   "metadata": {},
   "outputs": [],
   "source": [
    "def nbrVoyelle():\n",
    "    mot = \"informatique\"\n",
    "    n = len(mot)\n",
    "    voyelle = 0\n",
    "    for i in range(1,n):\n",
    "        if mot[i] in ['a','e','i','o','u']:\n",
    "            voyelle+=1\n",
    "    print(\"le mot \",mot,\"comPte \",voyelle,\"voyelles \")"
   ]
  },
  {
   "cell_type": "code",
   "execution_count": 14,
   "metadata": {},
   "outputs": [
    {
     "name": "stdout",
     "output_type": "stream",
     "text": [
      "le mot  informatique comPte  5 voyelles \n"
     ]
    }
   ],
   "source": [
    "nbrVoyelle()"
   ]
  },
  {
   "cell_type": "markdown",
   "metadata": {},
   "source": [
    "# exercice8"
   ]
  },
  {
   "cell_type": "code",
   "execution_count": 35,
   "metadata": {},
   "outputs": [],
   "source": [
    "def inverse():\n",
    "    a=1\n",
    "    while a>18:\n",
    "        a=a+1\n",
    "        if a%3==0:\n",
    "            print(a)"
   ]
  },
  {
   "cell_type": "code",
   "execution_count": 36,
   "metadata": {},
   "outputs": [],
   "source": [
    "inverse()"
   ]
  },
  {
   "cell_type": "markdown",
   "metadata": {},
   "source": [
    "# exercice9"
   ]
  },
  {
   "cell_type": "code",
   "execution_count": 24,
   "metadata": {},
   "outputs": [],
   "source": [
    "def note_moy():\n",
    "    nbr_note = 10\n",
    "    note_min = 20\n",
    "    note_max = 0\n",
    "    a=1\n",
    "    while a>18:\n",
    "        a=a+1\n",
    "        if a%3==0:\n",
    "            print(a)\n",
    "    som_note = 0 \n",
    "    for i in range(1,11):\n",
    "        print(\"veuillez saisir la note N°\",i)\n",
    "        note_saisi = float(input())\n",
    "        while note_saisi>20 or note_saisi<0:\n",
    "            print(\"veuillez saisir la note N°\",i)\n",
    "            note_saisi=float(input())\n",
    "        som_note += note_saisi\n",
    "        if note_min>note_saisi:\n",
    "            note_min = note_saisi\n",
    "        if note_max<note_saisi: \n",
    "            note_max = note_saisi\n",
    "    moyenne = som_note/nbr_note\n",
    "    print(\"la moyenne est: \",moyenne)\n",
    "    print(\"la note minimal est: \",note_min)\n",
    "    print(\"la note maximal est: \",note_max)"
   ]
  },
  {
   "cell_type": "code",
   "execution_count": 25,
   "metadata": {},
   "outputs": [
    {
     "name": "stdout",
     "output_type": "stream",
     "text": [
      "veuillez saisir la note N° 1\n",
      "12\n",
      "veuillez saisir la note N° 2\n",
      "15\n",
      "veuillez saisir la note N° 3\n",
      "17\n",
      "veuillez saisir la note N° 4\n",
      "9\n",
      "veuillez saisir la note N° 5\n",
      "3\n",
      "veuillez saisir la note N° 6\n",
      "5\n",
      "veuillez saisir la note N° 7\n",
      "18\n",
      "veuillez saisir la note N° 8\n",
      "15\n",
      "veuillez saisir la note N° 9\n",
      "11\n",
      "veuillez saisir la note N° 10\n",
      "19\n",
      "la moyenne est:  12.4\n",
      "la note minimal est:  3.0\n",
      "la note maximal est:  19.0\n"
     ]
    }
   ],
   "source": [
    "note_moy()"
   ]
  },
  {
   "cell_type": "markdown",
   "metadata": {},
   "source": [
    "# exercice10"
   ]
  },
  {
   "cell_type": "code",
   "execution_count": 5,
   "metadata": {},
   "outputs": [],
   "source": [
    "def question():\n",
    "    reponse = input(\"vous etes mont rollandais?\")\n",
    "    if reponse == \"oui\":\n",
    "        print(\"yes!!!!!!!\")\n",
    "    else:\n",
    "        print(\"non!!!!!!\")"
   ]
  },
  {
   "cell_type": "code",
   "execution_count": 6,
   "metadata": {},
   "outputs": [
    {
     "name": "stdout",
     "output_type": "stream",
     "text": [
      "vous etes mont rollandais?oui\n",
      "yes!!!!!!!\n"
     ]
    }
   ],
   "source": [
    "question()"
   ]
  },
  {
   "cell_type": "markdown",
   "metadata": {},
   "source": [
    "# exercice11"
   ]
  },
  {
   "cell_type": "code",
   "execution_count": 7,
   "metadata": {},
   "outputs": [],
   "source": [
    "def nbrmagique():\n",
    "    import random\n",
    "    n = random.randint(1,100)\n",
    "    nbr_tenter=48\n",
    "    i=1\n",
    "    while (nbr_tenter > 0):\n",
    "        nbr_tenter-=1\n",
    "        var=int(input(\"entrer un nombre: \"))\n",
    "        if var < n:\n",
    "            print(\"c'est petit hein......\")\n",
    "        elif var > n:\n",
    "            print(\"plus grand quand meme.... \")\n",
    "        else:\n",
    "            print(\"t'as gagné wei.......\")\n"
   ]
  },
  {
   "cell_type": "code",
   "execution_count": 8,
   "metadata": {},
   "outputs": [
    {
     "name": "stdout",
     "output_type": "stream",
     "text": [
      "entrer un nombre: 12\n",
      "c'est petit hein......\n"
     ]
    },
    {
     "ename": "KeyboardInterrupt",
     "evalue": "Interrupted by user",
     "output_type": "error",
     "traceback": [
      "\u001b[1;31m----------------------------------------------------\u001b[0m",
      "\u001b[1;31mKeyboardInterrupt\u001b[0m  Traceback (most recent call last)",
      "\u001b[1;32m<ipython-input-8-69aba9e42ad2>\u001b[0m in \u001b[0;36m<module>\u001b[1;34m\u001b[0m\n\u001b[1;32m----> 1\u001b[1;33m \u001b[0mnbrmagique\u001b[0m\u001b[1;33m(\u001b[0m\u001b[1;33m)\u001b[0m\u001b[1;33m\u001b[0m\u001b[1;33m\u001b[0m\u001b[0m\n\u001b[0m",
      "\u001b[1;32m<ipython-input-7-6fe766d722c6>\u001b[0m in \u001b[0;36mnbrmagique\u001b[1;34m()\u001b[0m\n\u001b[0;32m      6\u001b[0m     \u001b[1;32mwhile\u001b[0m \u001b[1;33m(\u001b[0m\u001b[0mnbr_tenter\u001b[0m \u001b[1;33m>\u001b[0m \u001b[1;36m0\u001b[0m\u001b[1;33m)\u001b[0m\u001b[1;33m:\u001b[0m\u001b[1;33m\u001b[0m\u001b[1;33m\u001b[0m\u001b[0m\n\u001b[0;32m      7\u001b[0m         \u001b[0mnbr_tenter\u001b[0m\u001b[1;33m-=\u001b[0m\u001b[1;36m1\u001b[0m\u001b[1;33m\u001b[0m\u001b[1;33m\u001b[0m\u001b[0m\n\u001b[1;32m----> 8\u001b[1;33m         \u001b[0mvar\u001b[0m\u001b[1;33m=\u001b[0m\u001b[0mint\u001b[0m\u001b[1;33m(\u001b[0m\u001b[0minput\u001b[0m\u001b[1;33m(\u001b[0m\u001b[1;34m\"entrer un nombre: \"\u001b[0m\u001b[1;33m)\u001b[0m\u001b[1;33m)\u001b[0m\u001b[1;33m\u001b[0m\u001b[1;33m\u001b[0m\u001b[0m\n\u001b[0m\u001b[0;32m      9\u001b[0m         \u001b[1;32mif\u001b[0m \u001b[0mvar\u001b[0m \u001b[1;33m<\u001b[0m \u001b[0mn\u001b[0m\u001b[1;33m:\u001b[0m\u001b[1;33m\u001b[0m\u001b[1;33m\u001b[0m\u001b[0m\n\u001b[0;32m     10\u001b[0m             \u001b[0mprint\u001b[0m\u001b[1;33m(\u001b[0m\u001b[1;34m\"c'est petit hein......\"\u001b[0m\u001b[1;33m)\u001b[0m\u001b[1;33m\u001b[0m\u001b[1;33m\u001b[0m\u001b[0m\n",
      "\u001b[1;32mC:\\ProgramData\\Anaconda3.3\\lib\\site-packages\\ipykernel\\kernelbase.py\u001b[0m in \u001b[0;36mraw_input\u001b[1;34m(self, prompt)\u001b[0m\n\u001b[0;32m    858\u001b[0m                 \u001b[1;34m\"raw_input was called, but this frontend does not support input requests.\"\u001b[0m\u001b[1;33m\u001b[0m\u001b[1;33m\u001b[0m\u001b[0m\n\u001b[0;32m    859\u001b[0m             )\n\u001b[1;32m--> 860\u001b[1;33m         return self._input_request(str(prompt),\n\u001b[0m\u001b[0;32m    861\u001b[0m             \u001b[0mself\u001b[0m\u001b[1;33m.\u001b[0m\u001b[0m_parent_ident\u001b[0m\u001b[1;33m,\u001b[0m\u001b[1;33m\u001b[0m\u001b[1;33m\u001b[0m\u001b[0m\n\u001b[0;32m    862\u001b[0m             \u001b[0mself\u001b[0m\u001b[1;33m.\u001b[0m\u001b[0m_parent_header\u001b[0m\u001b[1;33m,\u001b[0m\u001b[1;33m\u001b[0m\u001b[1;33m\u001b[0m\u001b[0m\n",
      "\u001b[1;32mC:\\ProgramData\\Anaconda3.3\\lib\\site-packages\\ipykernel\\kernelbase.py\u001b[0m in \u001b[0;36m_input_request\u001b[1;34m(self, prompt, ident, parent, password)\u001b[0m\n\u001b[0;32m    902\u001b[0m             \u001b[1;32mexcept\u001b[0m \u001b[0mKeyboardInterrupt\u001b[0m\u001b[1;33m:\u001b[0m\u001b[1;33m\u001b[0m\u001b[1;33m\u001b[0m\u001b[0m\n\u001b[0;32m    903\u001b[0m                 \u001b[1;31m# re-raise KeyboardInterrupt, to truncate traceback\u001b[0m\u001b[1;33m\u001b[0m\u001b[1;33m\u001b[0m\u001b[1;33m\u001b[0m\u001b[0m\n\u001b[1;32m--> 904\u001b[1;33m                 \u001b[1;32mraise\u001b[0m \u001b[0mKeyboardInterrupt\u001b[0m\u001b[1;33m(\u001b[0m\u001b[1;34m\"Interrupted by user\"\u001b[0m\u001b[1;33m)\u001b[0m \u001b[1;32mfrom\u001b[0m \u001b[1;32mNone\u001b[0m\u001b[1;33m\u001b[0m\u001b[1;33m\u001b[0m\u001b[0m\n\u001b[0m\u001b[0;32m    905\u001b[0m             \u001b[1;32mexcept\u001b[0m \u001b[0mException\u001b[0m \u001b[1;32mas\u001b[0m \u001b[0me\u001b[0m\u001b[1;33m:\u001b[0m\u001b[1;33m\u001b[0m\u001b[1;33m\u001b[0m\u001b[0m\n\u001b[0;32m    906\u001b[0m                 \u001b[0mself\u001b[0m\u001b[1;33m.\u001b[0m\u001b[0mlog\u001b[0m\u001b[1;33m.\u001b[0m\u001b[0mwarning\u001b[0m\u001b[1;33m(\u001b[0m\u001b[1;34m\"Invalid Message:\"\u001b[0m\u001b[1;33m,\u001b[0m \u001b[0mexc_info\u001b[0m\u001b[1;33m=\u001b[0m\u001b[1;32mTrue\u001b[0m\u001b[1;33m)\u001b[0m\u001b[1;33m\u001b[0m\u001b[1;33m\u001b[0m\u001b[0m\n",
      "\u001b[1;31mKeyboardInterrupt\u001b[0m: Interrupted by user"
     ]
    }
   ],
   "source": [
    "nbrmagique()"
   ]
  },
  {
   "cell_type": "markdown",
   "metadata": {},
   "source": [
    "# exercice12"
   ]
  },
  {
   "cell_type": "code",
   "execution_count": null,
   "metadata": {},
   "outputs": [],
   "source": [
    "def pgcd():\n",
    "    a = eval(input(\"valeur de a: \"))\n",
    "    b = eval(input(\"valeur de b: \"))\n",
    "    r = a%b\n",
    "    print(\"le pgcd de \",a,\"et \",b,\"est donc: \",r)\n"
   ]
  },
  {
   "cell_type": "code",
   "execution_count": null,
   "metadata": {},
   "outputs": [],
   "source": [
    "pgcd()"
   ]
  },
  {
   "cell_type": "markdown",
   "metadata": {},
   "source": [
    "# exercice13"
   ]
  },
  {
   "cell_type": "code",
   "execution_count": 10,
   "metadata": {},
   "outputs": [],
   "source": [
    "def align():\n",
    "    for i in range(1,6):\n",
    "        for i in range(10):\n",
    "            print(i, end=\" \" )\n",
    "        print()\n"
   ]
  },
  {
   "cell_type": "code",
   "execution_count": 12,
   "metadata": {},
   "outputs": [
    {
     "name": "stdout",
     "output_type": "stream",
     "text": [
      "0 1 2 3 4 5 6 7 8 9 \n",
      "0 1 2 3 4 5 6 7 8 9 \n",
      "0 1 2 3 4 5 6 7 8 9 \n",
      "0 1 2 3 4 5 6 7 8 9 \n",
      "0 1 2 3 4 5 6 7 8 9 \n"
     ]
    }
   ],
   "source": [
    "align()"
   ]
  },
  {
   "cell_type": "markdown",
   "metadata": {},
   "source": [
    "# exercice14"
   ]
  },
  {
   "cell_type": "code",
   "execution_count": 13,
   "metadata": {},
   "outputs": [],
   "source": [
    "def calcule():\n",
    "    som = 0\n",
    "    i = 1\n",
    "    while (i<=4):\n",
    "        som+=i\n",
    "        i=i+1\n",
    "    print(\"la somme est: \",som)\n"
   ]
  },
  {
   "cell_type": "code",
   "execution_count": 14,
   "metadata": {},
   "outputs": [
    {
     "name": "stdout",
     "output_type": "stream",
     "text": [
      "la somme est:  10\n"
     ]
    }
   ],
   "source": [
    "calcule()"
   ]
  },
  {
   "cell_type": "markdown",
   "metadata": {},
   "source": [
    "# exercice15"
   ]
  },
  {
   "cell_type": "code",
   "execution_count": 15,
   "metadata": {},
   "outputs": [],
   "source": [
    "def carre():\n",
    "    som = 0\n",
    "    for n in range(1,10,2):\n",
    "        som += n**2\n",
    "    print(som)\n"
   ]
  },
  {
   "cell_type": "code",
   "execution_count": 16,
   "metadata": {},
   "outputs": [
    {
     "name": "stdout",
     "output_type": "stream",
     "text": [
      "165\n"
     ]
    }
   ],
   "source": [
    "carre()"
   ]
  },
  {
   "cell_type": "markdown",
   "metadata": {},
   "source": [
    "# exercice17"
   ]
  },
  {
   "cell_type": "code",
   "execution_count": 18,
   "metadata": {},
   "outputs": [],
   "source": [
    "def nbr_carre():\n",
    "    \n",
    "    i=1\n",
    "    while (i*i<=1000):\n",
    "        i+=1\n",
    "    print(i)\n"
   ]
  },
  {
   "cell_type": "code",
   "execution_count": 19,
   "metadata": {},
   "outputs": [
    {
     "name": "stdout",
     "output_type": "stream",
     "text": [
      "32\n"
     ]
    }
   ],
   "source": [
    "nbr_carre()"
   ]
  },
  {
   "cell_type": "markdown",
   "metadata": {},
   "source": [
    "# exercice18"
   ]
  },
  {
   "cell_type": "code",
   "execution_count": 4,
   "metadata": {},
   "outputs": [],
   "source": [
    "def parfait():\n",
    "    n=int(input(\"entrer le nombre: \"))\n",
    "    nd=0\n",
    "    for i in range(1,n+1):\n",
    "        if n%i==0:\n",
    "            nd+=1\n",
    "    if nd==n:\n",
    "        print(n, \"ESt un nombres parfait\")\n",
    "    else:\n",
    "        print(n,\"n'est pas un nombre parfait\")\n"
   ]
  },
  {
   "cell_type": "code",
   "execution_count": 5,
   "metadata": {},
   "outputs": [
    {
     "name": "stdout",
     "output_type": "stream",
     "text": [
      "entrer le nombre: 12\n",
      "12 n'est pas un nombre parfait\n"
     ]
    }
   ],
   "source": [
    "parfait()"
   ]
  },
  {
   "cell_type": "markdown",
   "metadata": {},
   "source": [
    "# Exercice20"
   ]
  },
  {
   "cell_type": "code",
   "execution_count": 26,
   "metadata": {},
   "outputs": [],
   "source": [
    "def ppmc(a,b):\n",
    "    p=a*b\n",
    "    while(a!=b):\n",
    "        if(a<b):\n",
    "            b-=a\n",
    "        else:\n",
    "            a-=b\n",
    "    return p/a\n"
   ]
  },
  {
   "cell_type": "code",
   "execution_count": 27,
   "metadata": {},
   "outputs": [
    {
     "data": {
      "text/plain": [
       "276.0"
      ]
     },
     "execution_count": 27,
     "metadata": {},
     "output_type": "execute_result"
    }
   ],
   "source": [
    "ppmc(12,23)"
   ]
  },
  {
   "cell_type": "code",
   "execution_count": null,
   "metadata": {},
   "outputs": [],
   "source": []
  }
 ],
 "metadata": {
  "kernelspec": {
   "display_name": "Python 3",
   "language": "python",
   "name": "python3"
  },
  "language_info": {
   "codemirror_mode": {
    "name": "ipython",
    "version": 3
   },
   "file_extension": ".py",
   "mimetype": "text/x-python",
   "name": "python",
   "nbconvert_exporter": "python",
   "pygments_lexer": "ipython3",
   "version": "3.8.3"
  }
 },
 "nbformat": 4,
 "nbformat_minor": 4
}
